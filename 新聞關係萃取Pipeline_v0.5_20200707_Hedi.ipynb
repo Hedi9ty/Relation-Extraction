{
 "cells": [
  {
   "cell_type": "markdown",
   "metadata": {},
   "source": [
    "# Load libraries "
   ]
  },
  {
   "cell_type": "code",
   "execution_count": 1,
   "metadata": {},
   "outputs": [],
   "source": [
    "import numpy as np\n",
    "import pandas as pd\n",
    "import jieba\n",
    "from gensim import corpora\n",
    "from datetime import datetime"
   ]
  },
  {
   "cell_type": "markdown",
   "metadata": {},
   "source": [
    "# Input data"
   ]
  },
  {
   "cell_type": "code",
   "execution_count": 2,
   "metadata": {},
   "outputs": [],
   "source": [
    "data = pd.read_excel('訓練資料.xlsx')"
   ]
  },
  {
   "cell_type": "code",
   "execution_count": 3,
   "metadata": {},
   "outputs": [
    {
     "data": {
      "text/html": [
       "<div>\n",
       "<style scoped>\n",
       "    .dataframe tbody tr th:only-of-type {\n",
       "        vertical-align: middle;\n",
       "    }\n",
       "\n",
       "    .dataframe tbody tr th {\n",
       "        vertical-align: top;\n",
       "    }\n",
       "\n",
       "    .dataframe thead th {\n",
       "        text-align: right;\n",
       "    }\n",
       "</style>\n",
       "<table border=\"1\" class=\"dataframe\">\n",
       "  <thead>\n",
       "    <tr style=\"text-align: right;\">\n",
       "      <th></th>\n",
       "      <th>實體一</th>\n",
       "      <th>實體二</th>\n",
       "      <th>關係標記</th>\n",
       "      <th>第二層關係標記</th>\n",
       "      <th>句子</th>\n",
       "    </tr>\n",
       "  </thead>\n",
       "  <tbody>\n",
       "    <tr>\n",
       "      <th>0</th>\n",
       "      <td>慶富</td>\n",
       "      <td>簡良鑑</td>\n",
       "      <td>受聘</td>\n",
       "      <td>工作(公司-人)</td>\n",
       "      <td>自稱學界出身的簡良鑑任慶富執行長，幾乎主導慶富大小事，到底在慶富詐貸案扮演何種角色，有待釐清</td>\n",
       "    </tr>\n",
       "    <tr>\n",
       "      <th>1</th>\n",
       "      <td>慶富</td>\n",
       "      <td>李瑞倉</td>\n",
       "      <td>合作</td>\n",
       "      <td>NaN</td>\n",
       "      <td>藍：李瑞倉致電華南銀要求給慶富融資10億</td>\n",
       "    </tr>\n",
       "    <tr>\n",
       "      <th>2</th>\n",
       "      <td>慶富</td>\n",
       "      <td>陳偉志</td>\n",
       "      <td>其他(涉案)</td>\n",
       "      <td>其他</td>\n",
       "      <td>持續追蹤慶富案的立委黃國昌在臉書上表示，無論是何人、基於何目的爆出錄音檔，目前既然出現陳慶男...</td>\n",
       "    </tr>\n",
       "    <tr>\n",
       "      <th>3</th>\n",
       "      <td>慶富</td>\n",
       "      <td>慶富</td>\n",
       "      <td>同名</td>\n",
       "      <td>同名</td>\n",
       "      <td>「慶富取得獵雷艦案，從在國防部招標過程，就開始出問題」，陳永興指出，為了讓慶富得標，評選過程...</td>\n",
       "    </tr>\n",
       "    <tr>\n",
       "      <th>4</th>\n",
       "      <td>慶富</td>\n",
       "      <td>王端仁</td>\n",
       "      <td>其他(涉案)</td>\n",
       "      <td>其他</td>\n",
       "      <td>新頭殼newtalk慶富獵雷艦案延燒高雄市政府，逼得市府海洋局長王端仁請辭，市長陳菊與市議會...</td>\n",
       "    </tr>\n",
       "  </tbody>\n",
       "</table>\n",
       "</div>"
      ],
      "text/plain": [
       "  實體一  實體二    關係標記   第二層關係標記  \\\n",
       "0  慶富  簡良鑑      受聘  工作(公司-人)   \n",
       "1  慶富  李瑞倉      合作       NaN   \n",
       "2  慶富  陳偉志  其他(涉案)        其他   \n",
       "3  慶富   慶富      同名        同名   \n",
       "4  慶富  王端仁  其他(涉案)        其他   \n",
       "\n",
       "                                                  句子  \n",
       "0     自稱學界出身的簡良鑑任慶富執行長，幾乎主導慶富大小事，到底在慶富詐貸案扮演何種角色，有待釐清  \n",
       "1                               藍：李瑞倉致電華南銀要求給慶富融資10億  \n",
       "2  持續追蹤慶富案的立委黃國昌在臉書上表示，無論是何人、基於何目的爆出錄音檔，目前既然出現陳慶男...  \n",
       "3  「慶富取得獵雷艦案，從在國防部招標過程，就開始出問題」，陳永興指出，為了讓慶富得標，評選過程...  \n",
       "4  新頭殼newtalk慶富獵雷艦案延燒高雄市政府，逼得市府海洋局長王端仁請辭，市長陳菊與市議會...  "
      ]
     },
     "execution_count": 3,
     "metadata": {},
     "output_type": "execute_result"
    }
   ],
   "source": [
    "data.head()"
   ]
  },
  {
   "cell_type": "markdown",
   "metadata": {},
   "source": [
    "# Set Jieba"
   ]
  },
  {
   "cell_type": "code",
   "execution_count": 4,
   "metadata": {},
   "outputs": [],
   "source": [
    "jieba.set_dictionary('Dictionary/' + 'dict.txt.big')"
   ]
  },
  {
   "cell_type": "code",
   "execution_count": 5,
   "metadata": {},
   "outputs": [
    {
     "name": "stderr",
     "output_type": "stream",
     "text": [
      "C:\\Users\\hedho\\AppData\\Local\\Continuum\\anaconda3\\lib\\site-packages\\ipykernel_launcher.py:4: FutureWarning: read_table is deprecated, use read_csv instead, passing sep='\\t'.\n",
      "  after removing the cwd from sys.path.\n",
      "Building prefix dict from C:\\Users\\hedho\\Downloads\\關係萃取Pipeline\\Dictionary\\dict.txt.big ...\n",
      "Loading model from cache C:\\WINDOWS\\Temp\\jieba.uf15ce8acf8e1db4bb00b591747830337.cache\n",
      "Loading model cost 1.130 seconds.\n",
      "Prefix dict has been built succesfully.\n"
     ]
    }
   ],
   "source": [
    "add_dic = ['edu_dict.txt', 'company_dict.txt', 'geo_dict.txt', 'law_dict.txt']\n",
    "for add in add_dic:\n",
    "    add_path = 'Dictionary/' + add\n",
    "    dict_df = pd.read_table(add_path, header=None, encoding = 'utf8')\n",
    "    dict_df['word'] = dict_df.iloc[: ,0].apply(lambda x:x.split()[0])\n",
    "    dict_df['weight'] = dict_df.iloc[: ,0].apply(lambda x:x.split()[1])\n",
    "    dict_df = dict_df[['word', 'weight']].values\n",
    "    for row in dict_df:\n",
    "        jieba.add_word(row[0], row[1])"
   ]
  },
  {
   "cell_type": "code",
   "execution_count": 6,
   "metadata": {},
   "outputs": [],
   "source": [
    "for word in set(pd.concat([data.實體一, data.實體二])):\n",
    "    jieba.add_word(word, 10000)"
   ]
  },
  {
   "cell_type": "code",
   "execution_count": 7,
   "metadata": {},
   "outputs": [],
   "source": [
    "pred=pd.read_excel('訓練資料.xlsx')\n",
    "pred.reset_index(inplace=True)\n",
    "for word in set(pd.concat([pred.實體一, pred.實體二])):\n",
    "    jieba.add_word(word, 10000)\n",
    "text_pred = pred['句子'].astype(str).apply(lambda x:jieba.lcut(x))"
   ]
  },
  {
   "cell_type": "code",
   "execution_count": 8,
   "metadata": {},
   "outputs": [
    {
     "data": {
      "text/html": [
       "<div>\n",
       "<style scoped>\n",
       "    .dataframe tbody tr th:only-of-type {\n",
       "        vertical-align: middle;\n",
       "    }\n",
       "\n",
       "    .dataframe tbody tr th {\n",
       "        vertical-align: top;\n",
       "    }\n",
       "\n",
       "    .dataframe thead th {\n",
       "        text-align: right;\n",
       "    }\n",
       "</style>\n",
       "<table border=\"1\" class=\"dataframe\">\n",
       "  <thead>\n",
       "    <tr style=\"text-align: right;\">\n",
       "      <th></th>\n",
       "      <th>index</th>\n",
       "      <th>實體一</th>\n",
       "      <th>實體二</th>\n",
       "      <th>關係標記</th>\n",
       "      <th>第二層關係標記</th>\n",
       "      <th>句子</th>\n",
       "    </tr>\n",
       "  </thead>\n",
       "  <tbody>\n",
       "    <tr>\n",
       "      <th>0</th>\n",
       "      <td>0</td>\n",
       "      <td>慶富</td>\n",
       "      <td>簡良鑑</td>\n",
       "      <td>受聘</td>\n",
       "      <td>工作(公司-人)</td>\n",
       "      <td>自稱學界出身的簡良鑑任慶富執行長，幾乎主導慶富大小事，到底在慶富詐貸案扮演何種角色，有待釐清</td>\n",
       "    </tr>\n",
       "    <tr>\n",
       "      <th>1</th>\n",
       "      <td>1</td>\n",
       "      <td>慶富</td>\n",
       "      <td>李瑞倉</td>\n",
       "      <td>合作</td>\n",
       "      <td>NaN</td>\n",
       "      <td>藍：李瑞倉致電華南銀要求給慶富融資10億</td>\n",
       "    </tr>\n",
       "    <tr>\n",
       "      <th>2</th>\n",
       "      <td>2</td>\n",
       "      <td>慶富</td>\n",
       "      <td>陳偉志</td>\n",
       "      <td>其他(涉案)</td>\n",
       "      <td>其他</td>\n",
       "      <td>持續追蹤慶富案的立委黃國昌在臉書上表示，無論是何人、基於何目的爆出錄音檔，目前既然出現陳慶男...</td>\n",
       "    </tr>\n",
       "    <tr>\n",
       "      <th>3</th>\n",
       "      <td>3</td>\n",
       "      <td>慶富</td>\n",
       "      <td>慶富</td>\n",
       "      <td>同名</td>\n",
       "      <td>同名</td>\n",
       "      <td>「慶富取得獵雷艦案，從在國防部招標過程，就開始出問題」，陳永興指出，為了讓慶富得標，評選過程...</td>\n",
       "    </tr>\n",
       "    <tr>\n",
       "      <th>4</th>\n",
       "      <td>4</td>\n",
       "      <td>慶富</td>\n",
       "      <td>王端仁</td>\n",
       "      <td>其他(涉案)</td>\n",
       "      <td>其他</td>\n",
       "      <td>新頭殼newtalk慶富獵雷艦案延燒高雄市政府，逼得市府海洋局長王端仁請辭，市長陳菊與市議會...</td>\n",
       "    </tr>\n",
       "  </tbody>\n",
       "</table>\n",
       "</div>"
      ],
      "text/plain": [
       "   index 實體一  實體二    關係標記   第二層關係標記  \\\n",
       "0      0  慶富  簡良鑑      受聘  工作(公司-人)   \n",
       "1      1  慶富  李瑞倉      合作       NaN   \n",
       "2      2  慶富  陳偉志  其他(涉案)        其他   \n",
       "3      3  慶富   慶富      同名        同名   \n",
       "4      4  慶富  王端仁  其他(涉案)        其他   \n",
       "\n",
       "                                                  句子  \n",
       "0     自稱學界出身的簡良鑑任慶富執行長，幾乎主導慶富大小事，到底在慶富詐貸案扮演何種角色，有待釐清  \n",
       "1                               藍：李瑞倉致電華南銀要求給慶富融資10億  \n",
       "2  持續追蹤慶富案的立委黃國昌在臉書上表示，無論是何人、基於何目的爆出錄音檔，目前既然出現陳慶男...  \n",
       "3  「慶富取得獵雷艦案，從在國防部招標過程，就開始出問題」，陳永興指出，為了讓慶富得標，評選過程...  \n",
       "4  新頭殼newtalk慶富獵雷艦案延燒高雄市政府，逼得市府海洋局長王端仁請辭，市長陳菊與市議會...  "
      ]
     },
     "execution_count": 8,
     "metadata": {},
     "output_type": "execute_result"
    }
   ],
   "source": [
    "pred.head()"
   ]
  },
  {
   "cell_type": "code",
   "execution_count": 9,
   "metadata": {},
   "outputs": [
    {
     "data": {
      "text/plain": [
       "0        [自稱, 學界, 出身, 的, 簡良鑑, 任, 慶富, 執行長, ，, 幾乎, 主導, 慶富...\n",
       "1               [藍, ：, 李瑞倉, 致電, 華南銀, 要求, 給, 慶富, 融資, 10, 億]\n",
       "2        [持續, 追蹤, 慶富, 案, 的, 立委, 黃國昌, 在, 臉, 書上, 表示, ，, 無...\n",
       "3        [「, 慶富, 取得, 獵, 雷艦, 案, ，, 從, 在, 國防部, 招標, 過程, ，,...\n",
       "4        [新, 頭殼, newtalk, 慶富, 獵, 雷艦, 案, 延燒, 高雄, 市政府, ，,...\n",
       "5        [高雄地檢署, 偵辦, 慶富, 造獵, 雷艦, 涉詐, 貸案, ，, 爆疑, 涉喬, 興達,...\n",
       "6        [標案, 至今, ，, 慶富, 頻遭, 財務, 不佳, 、, 違約, 採購, 中國, 製造,...\n",
       "7        [檢方, 初步, 將, 全案, 朝涉, 貪汙, 治罪, 條例, 圖利, 罪, 、, 違反, ...\n",
       "8        [尤其, 慶富, 案, 這個, 標案, ，, 詐貸, 、, 銀行, 聯貸, 通過, 成立, ...\n",
       "9        [承攬, 海軍, 獵, 雷艦, 案, 的, 慶富造船, 爆發, 嚴重, 財務, 問題, ，,...\n",
       "10       [財政部, 與, 公股, 行庫, 聯手, 推, 「, 三方, 合約, 」, 特偵組, 若, ...\n",
       "11       [執行長, 僅涉, 詐, 貸求, 刑, 較輕, 雄檢認, 為, ，, 陳慶男, 、, 簡良鑑...\n",
       "12       [執行長, 僅涉, 詐, 貸求, 刑, 較輕, 雄檢認, 為, ，, 陳慶男, 、, 簡良鑑...\n",
       "13       [執行長, 僅涉, 詐, 貸求, 刑, 較輕, 雄檢認, 為, ，, 陳慶男, 、, 簡良鑑...\n",
       "14       [陳慶男, 父子, 坦承, 涉案, ，, 檢方, 認定, ，, 陳慶男, 等人, 向, 聯貸...\n",
       "15       [聯合報, -, 慶富, 詐, 貸案, 起訴, 5, 人, 陳慶男, 求刑, 30, 年, ...\n",
       "16       [(, 工商時報, ), （, 更新, ：, 動, 新聞, ）, 高雄地檢署, 偵辦, 慶富...\n",
       "17       [承造, 海軍, 獵, 雷艦, 的, 慶富公司, 因, 資金, 出現, 缺口, ，, 涉嫌,...\n",
       "18       [10, 月, 25, 日, 深夜, ，, 第一銀行, 緊急, 發出, 新聞稿, 宣布, ，...\n",
       "19       [高雄銀行, 表示, ，, 慶富公司, 為, 強化, 資本, 結構, ，, 民國, 104,...\n",
       "20       [高雄地檢署, 偵辦, 慶富造船, 涉詐, 貸案, ，, 今天, 傳喚, 慶富, 前, 執行...\n",
       "21       [高雄地檢署, 偵辦, 慶富造船, 獵, 雷艦, 案, 12, 日, 偵結, ，, 依, 違...\n",
       "22       [高雄地檢署, 偵辦, 慶富造船, 獵, 雷艦, 案, 12, 日, 偵結, ，, 依, 違...\n",
       "23       [高雄地檢署, 偵辦, 慶富造船, 獵, 雷艦, 案, 12, 日, 偵結, ，, 依, 違...\n",
       "24       [高雄地檢署, 偵辦, 慶富造船, 獵, 雷艦, 案, 12, 日, 偵結, ，, 依, 違...\n",
       "25       [高雄地檢署, 偵辦, 慶富造船, 獵, 雷艦, 案, 12, 日, 偵結, ，, 依, 違...\n",
       "26       [高雄地檢署, 偵辦, 慶富造船, 獵, 雷艦, 案, 12, 日, 偵結, ，, 依, 違...\n",
       "27       [高雄地檢署, 偵辦, 慶富造船, 獵, 雷艦, 案, 12, 日, 偵結, ，, 依, 違...\n",
       "28       [高雄地檢署, 偵辦, 慶富造船, 獵, 雷艦, 案, 12, 日, 偵結, ，, 依, 違...\n",
       "29       [高雄地檢署, 偵辦, 慶富造船, 獵, 雷艦, 案, 12, 日, 偵結, ，, 依, 違...\n",
       "                               ...                        \n",
       "11523    [中秋, 連假, 為, 因應, 中秋節, 慶, 消費力, ，, 量販, 業者, 包括, 遠百...\n",
       "11524    [鉅, 亨網, 新聞, 中心, 潤泰創新, (, 9945, ), 2016, 年, 1, ...\n",
       "11525    [進一步, 分析法, 人, 預估, 的, 今年, EPS, ，, 以, 潤泰全, 的, 7....\n",
       "11526    [潤泰全, （, 2915, ）, 受惠, 年底, 百貨, 消費, 旺季, ，, 且, 透過...\n",
       "11527    [另外, ，, 在, 此次, 交易, 中, ，, 潤泰集團, 的, 潤泰全球, 預計, 認列...\n",
       "11528    [潤泰全球, 今天, 同樣, 開高走低, ，, 早盤, 衝上, 57.9, 元, ，, 逼近...\n",
       "11529    [浩鼎, (, 4174, ), 風波, 攪亂, 一池春水, ，, 潤泰集團, 總裁, 尹衍...\n",
       "11530    [潤泰全, （, 2915, ）, 每股, 稅後, 純益, （, EPS, ）, 連, 三年...\n",
       "11531    [潤泰全, 去年, 稅後, 純益, 為, 74.54, 億元, ，, 年減, 2%, ，, ...\n",
       "11532    [其實, ，, 去年, 潤泰全, 也, 曾, 因為, 配息, 低, 引來, 股東, 不滿, ...\n",
       "11533    [然而, 不發, 股利, 的, 訊息, 讓, 網友, 罵聲, 連連, ，, 更, 有, 網民...\n",
       "11534    [三大, 轉投資, 之, 資產, 減損, ，, 造成, 須提列, 66.6, 億元, 做, ...\n",
       "11535    [潤泰集團, 兩大, 上市公司, 潤泰全球, （, 2915, ）, 、, 潤泰創新, （,...\n",
       "11536    [法人, 表示, ，, 潤泰全球, 目前, 持有, 中裕, 約, 4.13%, 、, 潤泰新...\n",
       "11537    [今年, 潤泰雙雄, 轉投資, 又, 有, 波動, ，, 不同, 的是, ，, 潤泰新, 、...\n",
       "11538    [目前, 尹崇堯, 已, 進入, 包括, 潤泰新, （, 9945, ）, 、, 潤泰全, ...\n",
       "11539    [而, 依, 潤泰全, 昨天, 收盤價, 58, 元, ，, 現金, 殖, 利率, 達, 6...\n",
       "11540    [【, 時報, 記者, 沈, 培華, 台北, 報導, 】, 潤泰全, (, 2915, ),...\n",
       "11541    [潤泰全, 公布, 民國, 105, 年, 第一季, 正式, 財報, ，, 合併, 營收, ...\n",
       "11542    [潤泰全, 第一季, 本業, 成長, 主要, 來自, 管理費用, 減少, ，, 業外, 收益...\n",
       "11543    [這起, 案件, 源於, ，, 華南金控, 林家, 長子, 林知延, 與, 新光金控, 吳,...\n",
       "11544    [華南金控, 副董, 林明成, 長子, 林知延, ，, 被控, 偷拍, 妻子, 、, 新光金...\n",
       "11545    [新光金控, 董事長, 吳東進, 長女, 吳欣盈, 22, 日, 晚上, 再度, 於, 臉書...\n",
       "11546    [新光, 公主, 吳欣盈, 指控, 丈夫, 華南金控, 少東, 林知延, 夥同, 律師, 劉...\n",
       "11547    [新光, 公主, 吳欣盈, 指控, 丈夫, 華南金控, 少東, 林知延, 夥同, 律師, 劉...\n",
       "11548    [(, 更新, ：, 動, 新聞, ), 新光金控, 第三代, 長女, 吳欣盈, 2011,...\n",
       "11549    [華南金控, 第三代, 長子, 林知延, 2011, 年, 迎娶, 新光金控, 第三代, 長...\n",
       "11550    [1050222, 更新, ：, 新增, 影片, 新光金控, 董事長, 吳東進, 長女, 吳...\n",
       "11551    [1050222, 更新, ：, 新增, 影片, 新光金控, 董事長, 吳東進, 長女, 吳...\n",
       "11552    [猶, 記數, 月前, ，, 華南金控, 副董, 之子, -, 林知延, ，, 與, 新光金...\n",
       "Name: 句子, Length: 11553, dtype: object"
      ]
     },
     "execution_count": 9,
     "metadata": {},
     "output_type": "execute_result"
    }
   ],
   "source": [
    "text_pred"
   ]
  },
  {
   "cell_type": "markdown",
   "metadata": {},
   "source": [
    "# Data preparation"
   ]
  },
  {
   "cell_type": "code",
   "execution_count": 10,
   "metadata": {},
   "outputs": [],
   "source": [
    "text=data.句子.dropna().apply(lambda x:jieba.lcut(x))"
   ]
  },
  {
   "cell_type": "code",
   "execution_count": 11,
   "metadata": {},
   "outputs": [],
   "source": [
    "dic = corpora.Dictionary(text)"
   ]
  },
  {
   "cell_type": "code",
   "execution_count": 12,
   "metadata": {},
   "outputs": [],
   "source": [
    "word2ids = dic.token2id\n",
    "ids2word = dict([(i,w) for w, i in word2ids.items()])"
   ]
  },
  {
   "cell_type": "code",
   "execution_count": 13,
   "metadata": {},
   "outputs": [],
   "source": [
    "dic.add_documents(text_pred)\n",
    "word2ids = dic.token2id\n",
    "ids2word = dict([(i,w) for w, i in word2ids.items()])"
   ]
  },
  {
   "cell_type": "code",
   "execution_count": 14,
   "metadata": {},
   "outputs": [],
   "source": [
    "max_len = text.apply(len).max()\n",
    "n_row = text.shape[0]\n",
    "\n",
    "word_input = np.zeros(\n",
    "    (n_row, max_len),\n",
    "    dtype='float32')\n",
    "\n",
    "pos_input = np.zeros(\n",
    "    (n_row, max_len, 2),\n",
    "    dtype='float32')"
   ]
  },
  {
   "cell_type": "code",
   "execution_count": 15,
   "metadata": {},
   "outputs": [],
   "source": [
    "for i, row in enumerate(text.tolist()):\n",
    "    for t, word in enumerate(row):\n",
    "        word_input[i, t] = word2ids[word]\n",
    "        if word == data.實體一[i]:\n",
    "            pos_input[i,t,0] = 1\n",
    "        elif word == data.實體二[i]:\n",
    "            pos_input[i,t, 1] = 1"
   ]
  },
  {
   "cell_type": "code",
   "execution_count": 16,
   "metadata": {},
   "outputs": [
    {
     "name": "stderr",
     "output_type": "stream",
     "text": [
      "C:\\Users\\hedho\\AppData\\Local\\Continuum\\anaconda3\\lib\\site-packages\\ipykernel_launcher.py:3: SettingWithCopyWarning: \n",
      "A value is trying to be set on a copy of a slice from a DataFrame\n",
      "\n",
      "See the caveats in the documentation: http://pandas.pydata.org/pandas-docs/stable/indexing.html#indexing-view-versus-copy\n",
      "  This is separate from the ipykernel package so we can avoid doing imports until\n",
      "C:\\Users\\hedho\\AppData\\Local\\Continuum\\anaconda3\\lib\\site-packages\\pandas\\core\\indexing.py:190: SettingWithCopyWarning: \n",
      "A value is trying to be set on a copy of a slice from a DataFrame\n",
      "\n",
      "See the caveats in the documentation: http://pandas.pydata.org/pandas-docs/stable/indexing.html#indexing-view-versus-copy\n",
      "  self._setitem_with_indexer(indexer, value)\n",
      "C:\\Users\\hedho\\AppData\\Local\\Continuum\\anaconda3\\lib\\site-packages\\ipykernel_launcher.py:4: SettingWithCopyWarning: \n",
      "A value is trying to be set on a copy of a slice from a DataFrame\n",
      "\n",
      "See the caveats in the documentation: http://pandas.pydata.org/pandas-docs/stable/indexing.html#indexing-view-versus-copy\n",
      "  after removing the cwd from sys.path.\n",
      "C:\\Users\\hedho\\AppData\\Local\\Continuum\\anaconda3\\lib\\site-packages\\ipykernel_launcher.py:5: SettingWithCopyWarning: \n",
      "A value is trying to be set on a copy of a slice from a DataFrame\n",
      "\n",
      "See the caveats in the documentation: http://pandas.pydata.org/pandas-docs/stable/indexing.html#indexing-view-versus-copy\n",
      "  \"\"\"\n",
      "C:\\Users\\hedho\\AppData\\Local\\Continuum\\anaconda3\\lib\\site-packages\\ipykernel_launcher.py:6: SettingWithCopyWarning: \n",
      "A value is trying to be set on a copy of a slice from a DataFrame\n",
      "\n",
      "See the caveats in the documentation: http://pandas.pydata.org/pandas-docs/stable/indexing.html#indexing-view-versus-copy\n",
      "  \n"
     ]
    },
    {
     "data": {
      "text/plain": [
       "(17, 無關     2790\n",
       " 同名     2184\n",
       " 同盟     1726\n",
       " 上下游    1723\n",
       " 受聘      841\n",
       " 其他      474\n",
       " 夥伴      390\n",
       " 同業      364\n",
       " 異議      148\n",
       " 合作      140\n",
       " 共犯      139\n",
       " 親戚      131\n",
       " 夫妻      124\n",
       " 上下級     122\n",
       " 競爭       88\n",
       " 告訴       85\n",
       " 監管       82\n",
       " Name: 關係標記, dtype: int64)"
      ]
     },
     "execution_count": 16,
     "metadata": {},
     "output_type": "execute_result"
    }
   ],
   "source": [
    "y = data[data.句子.isnull()==False].關係標記\n",
    "\n",
    "y.loc[y == '兄弟姊妹'] = '親戚'\n",
    "y.loc[y == '好友'] = '親戚'\n",
    "y.loc[y == '同門'] = '親戚'\n",
    "y.loc[y == '父母'] = '親戚'\n",
    "\n",
    "#y = y.fillna('其他(無關)')\n",
    "y = y.apply(lambda x:x.split('(')[0].strip())\n",
    "label_dict = dict([(w,i) for i,w in enumerate(y.unique())])\n",
    "n_label = len(y.unique())\n",
    "n_label, y.value_counts()"
   ]
  },
  {
   "cell_type": "code",
   "execution_count": 17,
   "metadata": {},
   "outputs": [
    {
     "name": "stderr",
     "output_type": "stream",
     "text": [
      "C:\\Users\\hedho\\AppData\\Local\\Continuum\\anaconda3\\lib\\site-packages\\h5py\\__init__.py:36: FutureWarning: Conversion of the second argument of issubdtype from `float` to `np.floating` is deprecated. In future, it will be treated as `np.float64 == np.dtype(float).type`.\n",
      "  from ._conv import register_converters as _register_converters\n",
      "Using TensorFlow backend.\n",
      "C:\\Users\\hedho\\AppData\\Local\\Continuum\\anaconda3\\lib\\site-packages\\tensorflow\\python\\framework\\dtypes.py:523: FutureWarning: Passing (type, 1) or '1type' as a synonym of type is deprecated; in a future version of numpy, it will be understood as (type, (1,)) / '(1,)type'.\n",
      "  _np_qint8 = np.dtype([(\"qint8\", np.int8, 1)])\n",
      "C:\\Users\\hedho\\AppData\\Local\\Continuum\\anaconda3\\lib\\site-packages\\tensorflow\\python\\framework\\dtypes.py:524: FutureWarning: Passing (type, 1) or '1type' as a synonym of type is deprecated; in a future version of numpy, it will be understood as (type, (1,)) / '(1,)type'.\n",
      "  _np_quint8 = np.dtype([(\"quint8\", np.uint8, 1)])\n",
      "C:\\Users\\hedho\\AppData\\Local\\Continuum\\anaconda3\\lib\\site-packages\\tensorflow\\python\\framework\\dtypes.py:525: FutureWarning: Passing (type, 1) or '1type' as a synonym of type is deprecated; in a future version of numpy, it will be understood as (type, (1,)) / '(1,)type'.\n",
      "  _np_qint16 = np.dtype([(\"qint16\", np.int16, 1)])\n",
      "C:\\Users\\hedho\\AppData\\Local\\Continuum\\anaconda3\\lib\\site-packages\\tensorflow\\python\\framework\\dtypes.py:526: FutureWarning: Passing (type, 1) or '1type' as a synonym of type is deprecated; in a future version of numpy, it will be understood as (type, (1,)) / '(1,)type'.\n",
      "  _np_quint16 = np.dtype([(\"quint16\", np.uint16, 1)])\n",
      "C:\\Users\\hedho\\AppData\\Local\\Continuum\\anaconda3\\lib\\site-packages\\tensorflow\\python\\framework\\dtypes.py:527: FutureWarning: Passing (type, 1) or '1type' as a synonym of type is deprecated; in a future version of numpy, it will be understood as (type, (1,)) / '(1,)type'.\n",
      "  _np_qint32 = np.dtype([(\"qint32\", np.int32, 1)])\n",
      "C:\\Users\\hedho\\AppData\\Local\\Continuum\\anaconda3\\lib\\site-packages\\tensorflow\\python\\framework\\dtypes.py:532: FutureWarning: Passing (type, 1) or '1type' as a synonym of type is deprecated; in a future version of numpy, it will be understood as (type, (1,)) / '(1,)type'.\n",
      "  np_resource = np.dtype([(\"resource\", np.ubyte, 1)])\n"
     ]
    }
   ],
   "source": [
    "from keras.models import Model, Sequential\n",
    "from keras.layers import Embedding, Bidirectional, LSTM, Dense, Input, concatenate, Dropout\n",
    "from keras.utils import to_categorical"
   ]
  },
  {
   "cell_type": "code",
   "execution_count": 18,
   "metadata": {},
   "outputs": [],
   "source": [
    "y = to_categorical(y.apply(lambda x:label_dict[x]))"
   ]
  },
  {
   "cell_type": "code",
   "execution_count": 19,
   "metadata": {},
   "outputs": [],
   "source": [
    "input1 = Input(shape=(max_len, ))\n",
    "word_embedding = Embedding(input_dim=len(ids2word), output_dim=64, input_length=max_len)(input1)\n",
    "input2 = Input(shape=(max_len,2))\n",
    "concat = concatenate([word_embedding, input2])\n",
    "concat_drop = Dropout(0.5)(concat)\n",
    "rnn_out = Bidirectional(LSTM(128))(concat_drop)\n",
    "rnn_drop = Dropout(0.5)(rnn_out)\n",
    "out = Dense(n_label, activation='softmax')(rnn_drop)"
   ]
  },
  {
   "cell_type": "code",
   "execution_count": 20,
   "metadata": {},
   "outputs": [],
   "source": [
    "model = Model([input1, input2], out)\n",
    "model.compile(optimizer='adam', loss='categorical_crossentropy', metrics=['acc'])"
   ]
  },
  {
   "cell_type": "code",
   "execution_count": 21,
   "metadata": {
    "scrolled": true
   },
   "outputs": [
    {
     "name": "stdout",
     "output_type": "stream",
     "text": [
      "__________________________________________________________________________________________________\n",
      "Layer (type)                    Output Shape         Param #     Connected to                     \n",
      "==================================================================================================\n",
      "input_1 (InputLayer)            (None, 896)          0                                            \n",
      "__________________________________________________________________________________________________\n",
      "embedding_1 (Embedding)         (None, 896, 64)      1363584     input_1[0][0]                    \n",
      "__________________________________________________________________________________________________\n",
      "input_2 (InputLayer)            (None, 896, 2)       0                                            \n",
      "__________________________________________________________________________________________________\n",
      "concatenate_1 (Concatenate)     (None, 896, 66)      0           embedding_1[0][0]                \n",
      "                                                                 input_2[0][0]                    \n",
      "__________________________________________________________________________________________________\n",
      "dropout_1 (Dropout)             (None, 896, 66)      0           concatenate_1[0][0]              \n",
      "__________________________________________________________________________________________________\n",
      "bidirectional_1 (Bidirectional) (None, 256)          199680      dropout_1[0][0]                  \n",
      "__________________________________________________________________________________________________\n",
      "dropout_2 (Dropout)             (None, 256)          0           bidirectional_1[0][0]            \n",
      "__________________________________________________________________________________________________\n",
      "dense_1 (Dense)                 (None, 17)           4369        dropout_2[0][0]                  \n",
      "==================================================================================================\n",
      "Total params: 1,567,633\n",
      "Trainable params: 1,567,633\n",
      "Non-trainable params: 0\n",
      "__________________________________________________________________________________________________\n"
     ]
    }
   ],
   "source": [
    "model.summary()"
   ]
  },
  {
   "cell_type": "raw",
   "metadata": {},
   "source": [
    "model.fit([word_input, pos_input], y,\n",
    "          batch_size=128,\n",
    "          epochs=20,\n",
    "          validation_split=0.2)"
   ]
  },
  {
   "cell_type": "raw",
   "metadata": {},
   "source": [
    "model.save('model_'+datetime.now().strftime(\"%Y/%m/%d\")+'.h5') "
   ]
  },
  {
   "cell_type": "markdown",
   "metadata": {},
   "source": [
    "# Predict"
   ]
  },
  {
   "cell_type": "code",
   "execution_count": 22,
   "metadata": {},
   "outputs": [],
   "source": [
    "from keras.models import load_model\n",
    "model=load_model('model.h5')"
   ]
  },
  {
   "cell_type": "code",
   "execution_count": 23,
   "metadata": {},
   "outputs": [
    {
     "name": "stdout",
     "output_type": "stream",
     "text": [
      "__________________________________________________________________________________________________\n",
      "Layer (type)                    Output Shape         Param #     Connected to                     \n",
      "==================================================================================================\n",
      "input_1 (InputLayer)            (None, 896)          0                                            \n",
      "__________________________________________________________________________________________________\n",
      "embedding_1 (Embedding)         (None, 896, 64)      1370432     input_1[0][0]                    \n",
      "__________________________________________________________________________________________________\n",
      "input_2 (InputLayer)            (None, 896, 2)       0                                            \n",
      "__________________________________________________________________________________________________\n",
      "concatenate_1 (Concatenate)     (None, 896, 66)      0           embedding_1[0][0]                \n",
      "                                                                 input_2[0][0]                    \n",
      "__________________________________________________________________________________________________\n",
      "dropout_1 (Dropout)             (None, 896, 66)      0           concatenate_1[0][0]              \n",
      "__________________________________________________________________________________________________\n",
      "bidirectional_1 (Bidirectional) (None, 256)          199680      dropout_1[0][0]                  \n",
      "__________________________________________________________________________________________________\n",
      "dropout_2 (Dropout)             (None, 256)          0           bidirectional_1[0][0]            \n",
      "__________________________________________________________________________________________________\n",
      "dense_1 (Dense)                 (None, 17)           4369        dropout_2[0][0]                  \n",
      "==================================================================================================\n",
      "Total params: 1,574,481\n",
      "Trainable params: 1,574,481\n",
      "Non-trainable params: 0\n",
      "__________________________________________________________________________________________________\n"
     ]
    }
   ],
   "source": [
    "model.summary()"
   ]
  },
  {
   "cell_type": "code",
   "execution_count": 24,
   "metadata": {},
   "outputs": [],
   "source": [
    "pred=pd.read_excel('測試資料.xlsx')"
   ]
  },
  {
   "cell_type": "code",
   "execution_count": 25,
   "metadata": {},
   "outputs": [],
   "source": [
    "for word in set(pd.concat([pred.實體一, pred.實體二])):\n",
    "    jieba.add_word(word, 10000)"
   ]
  },
  {
   "cell_type": "code",
   "execution_count": 26,
   "metadata": {},
   "outputs": [],
   "source": [
    "text_pred = pred.句子.apply(lambda x:jieba.lcut(x))"
   ]
  },
  {
   "cell_type": "code",
   "execution_count": 27,
   "metadata": {},
   "outputs": [],
   "source": [
    "dic.add_documents(text_pred)\n",
    "word2ids = dic.token2id\n",
    "ids2word = dict([(i,w) for w, i in word2ids.items()])"
   ]
  },
  {
   "cell_type": "code",
   "execution_count": 28,
   "metadata": {},
   "outputs": [],
   "source": [
    "max_len_pred = text.apply(len).max()\n",
    "n_row_pred = text_pred.shape[0]\n",
    "\n",
    "word_input_1 = np.zeros(\n",
    "    (n_row_pred, max_len_pred),\n",
    "    dtype='float32')\n",
    "\n",
    "pos_input_1 = np.zeros(\n",
    "    (n_row_pred, max_len_pred, 2),\n",
    "    dtype='float32')"
   ]
  },
  {
   "cell_type": "code",
   "execution_count": 29,
   "metadata": {},
   "outputs": [],
   "source": [
    "for i, row in enumerate(text_pred.tolist()):\n",
    "    for t, word in enumerate(row):\n",
    "        word_input_1[i, t] = word2ids[word]\n",
    "        if word == pred.實體一[i]:\n",
    "            pos_input_1[i,t,0] = 1\n",
    "        elif word == pred.實體二[i]:\n",
    "            pos_input_1[i,t, 1] = 1"
   ]
  },
  {
   "cell_type": "code",
   "execution_count": 30,
   "metadata": {
    "scrolled": true
   },
   "outputs": [],
   "source": [
    "PREDICTION=model.predict([word_input_1,pos_input_1])"
   ]
  },
  {
   "cell_type": "code",
   "execution_count": 31,
   "metadata": {},
   "outputs": [],
   "source": [
    "inv_label_dict = dict([(w,i) for i,w in label_dict.items()])"
   ]
  },
  {
   "cell_type": "code",
   "execution_count": 32,
   "metadata": {},
   "outputs": [],
   "source": [
    "pred_label=[inv_label_dict[row] for row in PREDICTION.argmax(axis = 1)]"
   ]
  },
  {
   "cell_type": "code",
   "execution_count": 33,
   "metadata": {},
   "outputs": [],
   "source": [
    "pred['關係預測']=pred_label"
   ]
  },
  {
   "cell_type": "code",
   "execution_count": 34,
   "metadata": {},
   "outputs": [
    {
     "data": {
      "text/html": [
       "<div>\n",
       "<style scoped>\n",
       "    .dataframe tbody tr th:only-of-type {\n",
       "        vertical-align: middle;\n",
       "    }\n",
       "\n",
       "    .dataframe tbody tr th {\n",
       "        vertical-align: top;\n",
       "    }\n",
       "\n",
       "    .dataframe thead th {\n",
       "        text-align: right;\n",
       "    }\n",
       "</style>\n",
       "<table border=\"1\" class=\"dataframe\">\n",
       "  <thead>\n",
       "    <tr style=\"text-align: right;\">\n",
       "      <th></th>\n",
       "      <th>實體一</th>\n",
       "      <th>實體二</th>\n",
       "      <th>句子</th>\n",
       "      <th>關係預測</th>\n",
       "    </tr>\n",
       "  </thead>\n",
       "  <tbody>\n",
       "    <tr>\n",
       "      <th>50</th>\n",
       "      <td>潤泰</td>\n",
       "      <td>潤弘精密</td>\n",
       "      <td>」目前潤泰集團至少擁有6家國內外上市公司，潤泰全球由尹衍樑的夫人王綺帆擔任董座；潤泰創新由簡...</td>\n",
       "      <td>同名</td>\n",
       "    </tr>\n",
       "    <tr>\n",
       "      <th>51</th>\n",
       "      <td>潤泰集團</td>\n",
       "      <td>潤泰全</td>\n",
       "      <td>潤泰全(2915)今天舉行股東會，由潤泰集團總裁尹衍樑的妻子、潤泰全董事長王綺帆主持，有小股...</td>\n",
       "      <td>受聘</td>\n",
       "    </tr>\n",
       "    <tr>\n",
       "      <th>52</th>\n",
       "      <td>潤泰集團</td>\n",
       "      <td>八德路潤泰集團</td>\n",
       "      <td>潤泰集團總裁尹衍樑先前傳出在家中浴室跌倒、撞傷臉部住院，據媒體報導，尹衍樑在台北榮總住院治療...</td>\n",
       "      <td>無關</td>\n",
       "    </tr>\n",
       "    <tr>\n",
       "      <th>53</th>\n",
       "      <td>潤泰集團</td>\n",
       "      <td>大潤發</td>\n",
       "      <td>現在，大潤發、潤泰集團已被社會許多公益團體、慈善機構，視為「災難急救站」</td>\n",
       "      <td>同名</td>\n",
       "    </tr>\n",
       "    <tr>\n",
       "      <th>54</th>\n",
       "      <td>潤泰集團</td>\n",
       "      <td>中國大潤發</td>\n",
       "      <td>」目前潤泰集團至少擁有6家國內外上市公司，潤泰全球由尹衍樑的夫人王綺帆擔任董座；潤泰創新由簡...</td>\n",
       "      <td>同名</td>\n",
       "    </tr>\n",
       "    <tr>\n",
       "      <th>55</th>\n",
       "      <td>潤泰集團</td>\n",
       "      <td>潤弘精密工程</td>\n",
       "      <td>」目前潤泰集團至少擁有6家國內外上市公司，潤泰全球由尹衍樑的夫人王綺帆擔任董座；潤泰創新由簡...</td>\n",
       "      <td>同名</td>\n",
       "    </tr>\n",
       "    <tr>\n",
       "      <th>56</th>\n",
       "      <td>潤泰集團</td>\n",
       "      <td>南山人壽</td>\n",
       "      <td>至於尹衍樑的超級大將、潤泰創新前任董事長劉忠賢，目前主掌匯弘投資擔任董事長，主控潤泰集團轉投...</td>\n",
       "      <td>同名</td>\n",
       "    </tr>\n",
       "    <tr>\n",
       "      <th>57</th>\n",
       "      <td>潤泰集團</td>\n",
       "      <td>潤泰精密材料</td>\n",
       "      <td>」目前潤泰集團至少擁有6家國內外上市公司，潤泰全球由尹衍樑的夫人王綺帆擔任董座；潤泰創新由簡...</td>\n",
       "      <td>同名</td>\n",
       "    </tr>\n",
       "    <tr>\n",
       "      <th>58</th>\n",
       "      <td>潤泰集團</td>\n",
       "      <td>潤成控股</td>\n",
       "      <td>至於尹衍樑的超級大將、潤泰創新前任董事長劉忠賢，目前主掌匯弘投資擔任董事長，主控潤泰集團轉投...</td>\n",
       "      <td>同名</td>\n",
       "    </tr>\n",
       "    <tr>\n",
       "      <th>59</th>\n",
       "      <td>潤泰集團</td>\n",
       "      <td>匯弘投資</td>\n",
       "      <td>至於尹衍樑的超級大將、潤泰創新前任董事長劉忠賢，目前主掌匯弘投資擔任董事長，主控潤泰集團轉投...</td>\n",
       "      <td>同名</td>\n",
       "    </tr>\n",
       "    <tr>\n",
       "      <th>60</th>\n",
       "      <td>潤泰集團</td>\n",
       "      <td>上潤泰集團</td>\n",
       "      <td>尹衍樑接受《鏡週刊》專訪時指出，他的兒子尹崇堯目前在南山董事長杜英宗身邊學習，兒子未來若當上...</td>\n",
       "      <td>同盟</td>\n",
       "    </tr>\n",
       "    <tr>\n",
       "      <th>61</th>\n",
       "      <td>潤泰集團</td>\n",
       "      <td>潤弘精密</td>\n",
       "      <td>」目前潤泰集團至少擁有6家國內外上市公司，潤泰全球由尹衍樑的夫人王綺帆擔任董座；潤泰創新由簡...</td>\n",
       "      <td>同名</td>\n",
       "    </tr>\n",
       "    <tr>\n",
       "      <th>62</th>\n",
       "      <td>潤泰集團</td>\n",
       "      <td>潤泰全球</td>\n",
       "      <td>」目前潤泰集團至少擁有6家國內外上市公司，潤泰全球由尹衍樑的夫人王綺帆擔任董座；潤泰創新由簡...</td>\n",
       "      <td>同名</td>\n",
       "    </tr>\n",
       "    <tr>\n",
       "      <th>63</th>\n",
       "      <td>潤泰全球楊梅二廠</td>\n",
       "      <td>潤泰全</td>\n",
       "      <td>日前一度傳出，潤泰全球楊梅二廠竟排放廢水遭停工，徐志漳回應，因地震問題導致廢水管和雨水管破裂...</td>\n",
       "      <td>同名</td>\n",
       "    </tr>\n",
       "    <tr>\n",
       "      <th>64</th>\n",
       "      <td>大潤發</td>\n",
       "      <td>中國大潤發</td>\n",
       "      <td>尹衍樑釋出控股中國大潤發的高鑫零售股權，可能市場已在估算尹衍樑可以獲利多少；不過，尹衍樑雖然...</td>\n",
       "      <td>無關</td>\n",
       "    </tr>\n",
       "    <tr>\n",
       "      <th>65</th>\n",
       "      <td>潤泰全球楊梅二廠</td>\n",
       "      <td>王綺帆</td>\n",
       "      <td>」目前潤泰集團至少擁有6家國內外上市公司，潤泰全球由尹衍樑的夫人王綺帆擔任董座；潤泰創新由簡...</td>\n",
       "      <td>同名</td>\n",
       "    </tr>\n",
       "    <tr>\n",
       "      <th>66</th>\n",
       "      <td>南山人壽</td>\n",
       "      <td>潤成控股</td>\n",
       "      <td>至於尹衍樑的超級大將、潤泰創新前任董事長劉忠賢，目前主掌匯弘投資擔任董事長，主控潤泰集團轉投...</td>\n",
       "      <td>同名</td>\n",
       "    </tr>\n",
       "    <tr>\n",
       "      <th>67</th>\n",
       "      <td>南山人壽</td>\n",
       "      <td>匯弘投資</td>\n",
       "      <td>至於尹衍樑的超級大將、潤泰創新前任董事長劉忠賢，目前主掌匯弘投資擔任董事長，主控潤泰集團轉投...</td>\n",
       "      <td>同名</td>\n",
       "    </tr>\n",
       "    <tr>\n",
       "      <th>68</th>\n",
       "      <td>潤成控股</td>\n",
       "      <td>匯弘投資</td>\n",
       "      <td>至於尹衍樑的超級大將、潤泰創新前任董事長劉忠賢，目前主掌匯弘投資擔任董事長，主控潤泰集團轉投...</td>\n",
       "      <td>同名</td>\n",
       "    </tr>\n",
       "    <tr>\n",
       "      <th>69</th>\n",
       "      <td>潤泰創新</td>\n",
       "      <td>簡滄圳</td>\n",
       "      <td>」目前潤泰集團至少擁有6家國內外上市公司，潤泰全球由尹衍樑的夫人王綺帆擔任董座；潤泰創新由簡...</td>\n",
       "      <td>同名</td>\n",
       "    </tr>\n",
       "    <tr>\n",
       "      <th>70</th>\n",
       "      <td>寶成集團</td>\n",
       "      <td>寶成集團裕元工業</td>\n",
       "      <td>據相關人士透露，寶成集團裕元工業董事會主席蔡其能的掌上明珠蔡碧珊，即將與志成國際少東葉兼志締結良緣</td>\n",
       "      <td>同名</td>\n",
       "    </tr>\n",
       "    <tr>\n",
       "      <th>71</th>\n",
       "      <td>潤泰</td>\n",
       "      <td>潤泰集團</td>\n",
       "      <td>潤泰集團總裁尹衍樑先前傳出在家中浴室跌倒、撞傷臉部住院，據媒體報導，尹衍樑在台北榮總住院治療...</td>\n",
       "      <td>無關</td>\n",
       "    </tr>\n",
       "    <tr>\n",
       "      <th>72</th>\n",
       "      <td>潤泰</td>\n",
       "      <td>潤泰全</td>\n",
       "      <td>此外，小股東針對日前潤泰全楊梅二廠遭環保局查獲排放廢水，總經理徐志漳表示，已改善</td>\n",
       "      <td>同名</td>\n",
       "    </tr>\n",
       "    <tr>\n",
       "      <th>73</th>\n",
       "      <td>潤泰</td>\n",
       "      <td>大潤發</td>\n",
       "      <td>現在，大潤發、潤泰集團已被社會許多公益團體、慈善機構，視為「災難急救站」</td>\n",
       "      <td>同名</td>\n",
       "    </tr>\n",
       "    <tr>\n",
       "      <th>74</th>\n",
       "      <td>潤泰</td>\n",
       "      <td>南山人壽</td>\n",
       "      <td>潤泰集團總裁尹衍樑首度曝光接班計畫，兒子尹崇堯將取代他在南山人壽董事會的位置，但他也強調，尹...</td>\n",
       "      <td>同名</td>\n",
       "    </tr>\n",
       "    <tr>\n",
       "      <th>75</th>\n",
       "      <td>潤泰</td>\n",
       "      <td>潤弘精密</td>\n",
       "      <td>尹崇堯同時也擔任潤泰全球、潤泰創新以及潤弘精密等三家上市公司董事</td>\n",
       "      <td>無關</td>\n",
       "    </tr>\n",
       "    <tr>\n",
       "      <th>76</th>\n",
       "      <td>潤泰</td>\n",
       "      <td>潤泰全球</td>\n",
       "      <td>」目前潤泰集團至少擁有6家國內外上市公司，潤泰全球由尹衍樑的夫人王綺帆擔任董座；潤泰創新由簡...</td>\n",
       "      <td>同名</td>\n",
       "    </tr>\n",
       "    <tr>\n",
       "      <th>77</th>\n",
       "      <td>潤泰集團</td>\n",
       "      <td>潤泰全</td>\n",
       "      <td>」目前潤泰集團至少擁有6家國內外上市公司，潤泰全球由尹衍樑的夫人王綺帆擔任董座；潤泰創新由簡...</td>\n",
       "      <td>同名</td>\n",
       "    </tr>\n",
       "    <tr>\n",
       "      <th>78</th>\n",
       "      <td>潤泰集團</td>\n",
       "      <td>大潤發</td>\n",
       "      <td>」目前潤泰集團至少擁有6家國內外上市公司，潤泰全球由尹衍樑的夫人王綺帆擔任董座；潤泰創新由簡...</td>\n",
       "      <td>同名</td>\n",
       "    </tr>\n",
       "    <tr>\n",
       "      <th>79</th>\n",
       "      <td>潤泰集團</td>\n",
       "      <td>南山人壽</td>\n",
       "      <td>潤泰集團總裁尹衍樑首度曝光接班計畫，兒子尹崇堯將取代他在南山人壽董事會的位置，但他也強調，尹...</td>\n",
       "      <td>同名</td>\n",
       "    </tr>\n",
       "    <tr>\n",
       "      <th>80</th>\n",
       "      <td>潤泰集團</td>\n",
       "      <td>潤泰全球</td>\n",
       "      <td>尹衍樑在35歲時接下父親「格子布大王」潤泰全球創辦人尹書田的棒子，在這將近30年的接班之路上...</td>\n",
       "      <td>同盟</td>\n",
       "    </tr>\n",
       "    <tr>\n",
       "      <th>81</th>\n",
       "      <td>大潤發</td>\n",
       "      <td>中國大潤發</td>\n",
       "      <td>」目前潤泰集團至少擁有6家國內外上市公司，潤泰全球由尹衍樑的夫人王綺帆擔任董座；潤泰創新由簡...</td>\n",
       "      <td>同名</td>\n",
       "    </tr>\n",
       "    <tr>\n",
       "      <th>82</th>\n",
       "      <td>尹崇堯</td>\n",
       "      <td>潤泰全球</td>\n",
       "      <td>尹崇堯同時也擔任潤泰全球、潤泰創新以及潤弘精密等三家上市公司董事</td>\n",
       "      <td>無關</td>\n",
       "    </tr>\n",
       "    <tr>\n",
       "      <th>83</th>\n",
       "      <td>寶成集團</td>\n",
       "      <td>寶成集團裕元工業</td>\n",
       "      <td>據相關人士透露，寶成集團裕元工業董事會主席蔡其能的掌上明珠蔡碧珊，即將與志成國際少東葉兼志締結良緣</td>\n",
       "      <td>同名</td>\n",
       "    </tr>\n",
       "    <tr>\n",
       "      <th>84</th>\n",
       "      <td>潤泰</td>\n",
       "      <td>潤泰集團</td>\n",
       "      <td>潤泰集團總裁尹衍樑先前傳出在家中浴室跌倒、撞傷臉部住院，據媒體報導，尹衍樑在台北榮總住院治療...</td>\n",
       "      <td>無關</td>\n",
       "    </tr>\n",
       "    <tr>\n",
       "      <th>85</th>\n",
       "      <td>潤泰</td>\n",
       "      <td>潤泰全</td>\n",
       "      <td>此外，小股東針對日前潤泰全楊梅二廠遭環保局查獲排放廢水，總經理徐志漳表示，已改善</td>\n",
       "      <td>同名</td>\n",
       "    </tr>\n",
       "    <tr>\n",
       "      <th>86</th>\n",
       "      <td>潤泰</td>\n",
       "      <td>大潤發</td>\n",
       "      <td>現在，大潤發、潤泰集團已被社會許多公益團體、慈善機構，視為「災難急救站」</td>\n",
       "      <td>同名</td>\n",
       "    </tr>\n",
       "    <tr>\n",
       "      <th>87</th>\n",
       "      <td>潤泰</td>\n",
       "      <td>南山人壽</td>\n",
       "      <td>潤泰集團總裁尹衍樑首度曝光接班計畫，兒子尹崇堯將取代他在南山人壽董事會的位置，但他也強調，尹...</td>\n",
       "      <td>同名</td>\n",
       "    </tr>\n",
       "    <tr>\n",
       "      <th>88</th>\n",
       "      <td>潤泰</td>\n",
       "      <td>潤弘精密</td>\n",
       "      <td>尹崇堯同時也擔任潤泰全球、潤泰創新以及潤弘精密等三家上市公司董事</td>\n",
       "      <td>無關</td>\n",
       "    </tr>\n",
       "    <tr>\n",
       "      <th>89</th>\n",
       "      <td>潤泰</td>\n",
       "      <td>潤泰全球</td>\n",
       "      <td>」目前潤泰集團至少擁有6家國內外上市公司，潤泰全球由尹衍樑的夫人王綺帆擔任董座；潤泰創新由簡...</td>\n",
       "      <td>同名</td>\n",
       "    </tr>\n",
       "    <tr>\n",
       "      <th>90</th>\n",
       "      <td>潤泰集團</td>\n",
       "      <td>潤泰全</td>\n",
       "      <td>」目前潤泰集團至少擁有6家國內外上市公司，潤泰全球由尹衍樑的夫人王綺帆擔任董座；潤泰創新由簡...</td>\n",
       "      <td>同名</td>\n",
       "    </tr>\n",
       "    <tr>\n",
       "      <th>91</th>\n",
       "      <td>潤泰集團</td>\n",
       "      <td>大潤發</td>\n",
       "      <td>」目前潤泰集團至少擁有6家國內外上市公司，潤泰全球由尹衍樑的夫人王綺帆擔任董座；潤泰創新由簡...</td>\n",
       "      <td>同名</td>\n",
       "    </tr>\n",
       "    <tr>\n",
       "      <th>92</th>\n",
       "      <td>潤泰集團</td>\n",
       "      <td>南山人壽</td>\n",
       "      <td>潤泰集團總裁尹衍樑首度曝光接班計畫，兒子尹崇堯將取代他在南山人壽董事會的位置，但他也強調，尹...</td>\n",
       "      <td>同名</td>\n",
       "    </tr>\n",
       "    <tr>\n",
       "      <th>93</th>\n",
       "      <td>潤泰集團</td>\n",
       "      <td>潤泰全球</td>\n",
       "      <td>尹衍樑在35歲時接下父親「格子布大王」潤泰全球創辦人尹書田的棒子，在這將近30年的接班之路上...</td>\n",
       "      <td>同盟</td>\n",
       "    </tr>\n",
       "    <tr>\n",
       "      <th>94</th>\n",
       "      <td>大潤發</td>\n",
       "      <td>中國大潤發</td>\n",
       "      <td>」目前潤泰集團至少擁有6家國內外上市公司，潤泰全球由尹衍樑的夫人王綺帆擔任董座；潤泰創新由簡...</td>\n",
       "      <td>同名</td>\n",
       "    </tr>\n",
       "    <tr>\n",
       "      <th>95</th>\n",
       "      <td>潤弘精密</td>\n",
       "      <td>尹崇堯</td>\n",
       "      <td>尹崇堯同時也擔任潤泰全球、潤泰創新以及潤弘精密等三家上市公司董事</td>\n",
       "      <td>無關</td>\n",
       "    </tr>\n",
       "    <tr>\n",
       "      <th>96</th>\n",
       "      <td>潤泰</td>\n",
       "      <td>潤泰集團</td>\n",
       "      <td>現在，大潤發、潤泰集團已被社會許多公益團體、慈善機構，視為「災難急救站」</td>\n",
       "      <td>同名</td>\n",
       "    </tr>\n",
       "    <tr>\n",
       "      <th>97</th>\n",
       "      <td>潤泰</td>\n",
       "      <td>潤泰全</td>\n",
       "      <td>日前一度傳出，潤泰全球楊梅二廠竟排放廢水遭停工，徐志漳回應，因地震問題導致廢水管和雨水管破裂...</td>\n",
       "      <td>同名</td>\n",
       "    </tr>\n",
       "    <tr>\n",
       "      <th>98</th>\n",
       "      <td>潤泰</td>\n",
       "      <td>大潤發</td>\n",
       "      <td>」目前潤泰集團至少擁有6家國內外上市公司，潤泰全球由尹衍樑的夫人王綺帆擔任董座；潤泰創新由簡...</td>\n",
       "      <td>同名</td>\n",
       "    </tr>\n",
       "    <tr>\n",
       "      <th>99</th>\n",
       "      <td>潤泰</td>\n",
       "      <td>南山人壽</td>\n",
       "      <td>」潤泰集團2011年入主南山人壽後，尹崇堯2016年當選南山人壽新任董事，外界解讀接班意味濃厚</td>\n",
       "      <td>無關</td>\n",
       "    </tr>\n",
       "  </tbody>\n",
       "</table>\n",
       "</div>"
      ],
      "text/plain": [
       "         實體一       實體二                                                 句子 關係預測\n",
       "50        潤泰      潤弘精密  」目前潤泰集團至少擁有6家國內外上市公司，潤泰全球由尹衍樑的夫人王綺帆擔任董座；潤泰創新由簡...   同名\n",
       "51      潤泰集團       潤泰全  潤泰全(2915)今天舉行股東會，由潤泰集團總裁尹衍樑的妻子、潤泰全董事長王綺帆主持，有小股...   受聘\n",
       "52      潤泰集團   八德路潤泰集團  潤泰集團總裁尹衍樑先前傳出在家中浴室跌倒、撞傷臉部住院，據媒體報導，尹衍樑在台北榮總住院治療...   無關\n",
       "53      潤泰集團       大潤發               現在，大潤發、潤泰集團已被社會許多公益團體、慈善機構，視為「災難急救站」   同名\n",
       "54      潤泰集團     中國大潤發  」目前潤泰集團至少擁有6家國內外上市公司，潤泰全球由尹衍樑的夫人王綺帆擔任董座；潤泰創新由簡...   同名\n",
       "55      潤泰集團    潤弘精密工程  」目前潤泰集團至少擁有6家國內外上市公司，潤泰全球由尹衍樑的夫人王綺帆擔任董座；潤泰創新由簡...   同名\n",
       "56      潤泰集團      南山人壽  至於尹衍樑的超級大將、潤泰創新前任董事長劉忠賢，目前主掌匯弘投資擔任董事長，主控潤泰集團轉投...   同名\n",
       "57      潤泰集團    潤泰精密材料  」目前潤泰集團至少擁有6家國內外上市公司，潤泰全球由尹衍樑的夫人王綺帆擔任董座；潤泰創新由簡...   同名\n",
       "58      潤泰集團      潤成控股  至於尹衍樑的超級大將、潤泰創新前任董事長劉忠賢，目前主掌匯弘投資擔任董事長，主控潤泰集團轉投...   同名\n",
       "59      潤泰集團      匯弘投資  至於尹衍樑的超級大將、潤泰創新前任董事長劉忠賢，目前主掌匯弘投資擔任董事長，主控潤泰集團轉投...   同名\n",
       "60      潤泰集團     上潤泰集團  尹衍樑接受《鏡週刊》專訪時指出，他的兒子尹崇堯目前在南山董事長杜英宗身邊學習，兒子未來若當上...   同盟\n",
       "61      潤泰集團      潤弘精密  」目前潤泰集團至少擁有6家國內外上市公司，潤泰全球由尹衍樑的夫人王綺帆擔任董座；潤泰創新由簡...   同名\n",
       "62      潤泰集團      潤泰全球  」目前潤泰集團至少擁有6家國內外上市公司，潤泰全球由尹衍樑的夫人王綺帆擔任董座；潤泰創新由簡...   同名\n",
       "63  潤泰全球楊梅二廠       潤泰全  日前一度傳出，潤泰全球楊梅二廠竟排放廢水遭停工，徐志漳回應，因地震問題導致廢水管和雨水管破裂...   同名\n",
       "64       大潤發     中國大潤發  尹衍樑釋出控股中國大潤發的高鑫零售股權，可能市場已在估算尹衍樑可以獲利多少；不過，尹衍樑雖然...   無關\n",
       "65  潤泰全球楊梅二廠       王綺帆  」目前潤泰集團至少擁有6家國內外上市公司，潤泰全球由尹衍樑的夫人王綺帆擔任董座；潤泰創新由簡...   同名\n",
       "66      南山人壽      潤成控股  至於尹衍樑的超級大將、潤泰創新前任董事長劉忠賢，目前主掌匯弘投資擔任董事長，主控潤泰集團轉投...   同名\n",
       "67      南山人壽      匯弘投資  至於尹衍樑的超級大將、潤泰創新前任董事長劉忠賢，目前主掌匯弘投資擔任董事長，主控潤泰集團轉投...   同名\n",
       "68      潤成控股      匯弘投資  至於尹衍樑的超級大將、潤泰創新前任董事長劉忠賢，目前主掌匯弘投資擔任董事長，主控潤泰集團轉投...   同名\n",
       "69      潤泰創新       簡滄圳  」目前潤泰集團至少擁有6家國內外上市公司，潤泰全球由尹衍樑的夫人王綺帆擔任董座；潤泰創新由簡...   同名\n",
       "70      寶成集團  寶成集團裕元工業  據相關人士透露，寶成集團裕元工業董事會主席蔡其能的掌上明珠蔡碧珊，即將與志成國際少東葉兼志締結良緣   同名\n",
       "71        潤泰      潤泰集團  潤泰集團總裁尹衍樑先前傳出在家中浴室跌倒、撞傷臉部住院，據媒體報導，尹衍樑在台北榮總住院治療...   無關\n",
       "72        潤泰       潤泰全           此外，小股東針對日前潤泰全楊梅二廠遭環保局查獲排放廢水，總經理徐志漳表示，已改善   同名\n",
       "73        潤泰       大潤發               現在，大潤發、潤泰集團已被社會許多公益團體、慈善機構，視為「災難急救站」   同名\n",
       "74        潤泰      南山人壽  潤泰集團總裁尹衍樑首度曝光接班計畫，兒子尹崇堯將取代他在南山人壽董事會的位置，但他也強調，尹...   同名\n",
       "75        潤泰      潤弘精密                   尹崇堯同時也擔任潤泰全球、潤泰創新以及潤弘精密等三家上市公司董事   無關\n",
       "76        潤泰      潤泰全球  」目前潤泰集團至少擁有6家國內外上市公司，潤泰全球由尹衍樑的夫人王綺帆擔任董座；潤泰創新由簡...   同名\n",
       "77      潤泰集團       潤泰全  」目前潤泰集團至少擁有6家國內外上市公司，潤泰全球由尹衍樑的夫人王綺帆擔任董座；潤泰創新由簡...   同名\n",
       "78      潤泰集團       大潤發  」目前潤泰集團至少擁有6家國內外上市公司，潤泰全球由尹衍樑的夫人王綺帆擔任董座；潤泰創新由簡...   同名\n",
       "79      潤泰集團      南山人壽  潤泰集團總裁尹衍樑首度曝光接班計畫，兒子尹崇堯將取代他在南山人壽董事會的位置，但他也強調，尹...   同名\n",
       "80      潤泰集團      潤泰全球  尹衍樑在35歲時接下父親「格子布大王」潤泰全球創辦人尹書田的棒子，在這將近30年的接班之路上...   同盟\n",
       "81       大潤發     中國大潤發  」目前潤泰集團至少擁有6家國內外上市公司，潤泰全球由尹衍樑的夫人王綺帆擔任董座；潤泰創新由簡...   同名\n",
       "82       尹崇堯      潤泰全球                   尹崇堯同時也擔任潤泰全球、潤泰創新以及潤弘精密等三家上市公司董事   無關\n",
       "83      寶成集團  寶成集團裕元工業  據相關人士透露，寶成集團裕元工業董事會主席蔡其能的掌上明珠蔡碧珊，即將與志成國際少東葉兼志締結良緣   同名\n",
       "84        潤泰      潤泰集團  潤泰集團總裁尹衍樑先前傳出在家中浴室跌倒、撞傷臉部住院，據媒體報導，尹衍樑在台北榮總住院治療...   無關\n",
       "85        潤泰       潤泰全           此外，小股東針對日前潤泰全楊梅二廠遭環保局查獲排放廢水，總經理徐志漳表示，已改善   同名\n",
       "86        潤泰       大潤發               現在，大潤發、潤泰集團已被社會許多公益團體、慈善機構，視為「災難急救站」   同名\n",
       "87        潤泰      南山人壽  潤泰集團總裁尹衍樑首度曝光接班計畫，兒子尹崇堯將取代他在南山人壽董事會的位置，但他也強調，尹...   同名\n",
       "88        潤泰      潤弘精密                   尹崇堯同時也擔任潤泰全球、潤泰創新以及潤弘精密等三家上市公司董事   無關\n",
       "89        潤泰      潤泰全球  」目前潤泰集團至少擁有6家國內外上市公司，潤泰全球由尹衍樑的夫人王綺帆擔任董座；潤泰創新由簡...   同名\n",
       "90      潤泰集團       潤泰全  」目前潤泰集團至少擁有6家國內外上市公司，潤泰全球由尹衍樑的夫人王綺帆擔任董座；潤泰創新由簡...   同名\n",
       "91      潤泰集團       大潤發  」目前潤泰集團至少擁有6家國內外上市公司，潤泰全球由尹衍樑的夫人王綺帆擔任董座；潤泰創新由簡...   同名\n",
       "92      潤泰集團      南山人壽  潤泰集團總裁尹衍樑首度曝光接班計畫，兒子尹崇堯將取代他在南山人壽董事會的位置，但他也強調，尹...   同名\n",
       "93      潤泰集團      潤泰全球  尹衍樑在35歲時接下父親「格子布大王」潤泰全球創辦人尹書田的棒子，在這將近30年的接班之路上...   同盟\n",
       "94       大潤發     中國大潤發  」目前潤泰集團至少擁有6家國內外上市公司，潤泰全球由尹衍樑的夫人王綺帆擔任董座；潤泰創新由簡...   同名\n",
       "95      潤弘精密       尹崇堯                   尹崇堯同時也擔任潤泰全球、潤泰創新以及潤弘精密等三家上市公司董事   無關\n",
       "96        潤泰      潤泰集團               現在，大潤發、潤泰集團已被社會許多公益團體、慈善機構，視為「災難急救站」   同名\n",
       "97        潤泰       潤泰全  日前一度傳出，潤泰全球楊梅二廠竟排放廢水遭停工，徐志漳回應，因地震問題導致廢水管和雨水管破裂...   同名\n",
       "98        潤泰       大潤發  」目前潤泰集團至少擁有6家國內外上市公司，潤泰全球由尹衍樑的夫人王綺帆擔任董座；潤泰創新由簡...   同名\n",
       "99        潤泰      南山人壽    」潤泰集團2011年入主南山人壽後，尹崇堯2016年當選南山人壽新任董事，外界解讀接班意味濃厚   無關"
      ]
     },
     "execution_count": 34,
     "metadata": {},
     "output_type": "execute_result"
    }
   ],
   "source": [
    "pred[50:100]"
   ]
  },
  {
   "cell_type": "code",
   "execution_count": 35,
   "metadata": {},
   "outputs": [
    {
     "data": {
      "text/plain": [
       "同名    88\n",
       "無關    33\n",
       "同盟     9\n",
       "受聘     8\n",
       "Name: 關係預測, dtype: int64"
      ]
     },
     "execution_count": 35,
     "metadata": {},
     "output_type": "execute_result"
    }
   ],
   "source": [
    "pred['關係預測'].value_counts()"
   ]
  },
  {
   "cell_type": "code",
   "execution_count": 36,
   "metadata": {},
   "outputs": [],
   "source": [
    "pred.to_excel('預測結果.xlsx', index = False)"
   ]
  }
 ],
 "metadata": {
  "kernelspec": {
   "display_name": "Python 3",
   "language": "python",
   "name": "python3"
  },
  "language_info": {
   "codemirror_mode": {
    "name": "ipython",
    "version": 3
   },
   "file_extension": ".py",
   "mimetype": "text/x-python",
   "name": "python",
   "nbconvert_exporter": "python",
   "pygments_lexer": "ipython3",
   "version": "3.6.5"
  }
 },
 "nbformat": 4,
 "nbformat_minor": 2
}
